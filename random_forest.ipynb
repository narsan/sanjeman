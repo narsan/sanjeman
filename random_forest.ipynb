{
 "cells": [
  {
   "cell_type": "code",
   "execution_count": 200,
   "metadata": {
    "collapsed": true
   },
   "outputs": [
    {
     "name": "stdout",
     "output_type": "stream",
     "text": [
      "number of training data:  14308\n",
      "number of test data:  188\n",
      "Index(['age', 'languages', 'contract_type', 'average_gpa', 'work_interval'], dtype='object')\n",
      "accuracy :  0.5957446808510638\n",
      "col_0         2   3\n",
      "steps_title        \n",
      "2            18  76\n",
      "3             0  94\n"
     ]
    },
    {
     "data": {
      "text/plain": "Text(0.5, 0, 'Random Forest Feature Importance')"
     },
     "execution_count": 200,
     "metadata": {},
     "output_type": "execute_result"
    },
    {
     "data": {
      "text/plain": "<Figure size 432x288 with 1 Axes>",
      "image/png": "[encoded data removed]"
     },
     "metadata": {
      "needs_background": "light"
     },
     "output_type": "display_data"
    }
   ],
   "source": [
    "from matplotlib import pyplot as plt\n",
    "from sklearn.datasets import load_boston\n",
    "from sklearn.metrics import accuracy_score, confusion_matrix\n",
    "from sklearn.ensemble import RandomForestClassifier\n",
    "import pandas as pd\n",
    "import numpy as np\n",
    "import mysql.connector\n",
    "from sklearn.model_selection import cross_val_score, StratifiedKFold, train_test_split, KFold, cross_val_predict\n",
    "\n",
    "# from sklearn.naive_bayes import GaussianNB accuracy = 50%\n",
    "\n",
    "\n",
    "\n",
    "with open('pss.txt') as file:\n",
    "    lines = file.readlines()\n",
    "    lines = [line.rstrip() for line in lines]\n",
    "password = lines[0]\n",
    "db = lines[1]\n",
    "\n",
    "mydb = mysql.connector.connect(\n",
    "    host=\"localhost\",\n",
    "    user=\"root\",\n",
    "    password=password,\n",
    "    database=db,\n",
    "    use_pure=True\n",
    ")\n",
    "\n",
    "my_cursor = mydb.cursor()\n",
    "steps_title_list = []\n",
    "d_steps_title = {}\n",
    "university_name_list = []\n",
    "d_uni_name = {}\n",
    "\n",
    "def convert_nans(df):\n",
    "    # job_applicant_id,gender,age,marriage_status,language,degree,skill,num_prev_company,work_interval,steps_title\n",
    "    df['steps_title'] = df['steps_title'].fillna(6)\n",
    "    df['age'] = df['age'].fillna(-1)\n",
    "    df['skill'] = df['skill'].fillna(-1)\n",
    "    df['marriage_status'] = df['marriage_status'].fillna(-1)\n",
    "    # df['language'] = df['language'].fillna(-1)\n",
    "    # df['job_contract_type'] = df['job_contract_type'].fillna(-1)\n",
    "    df['gender'] = df['gender'].fillna(-1)\n",
    "    df['degree'] = df['degree'].fillna(-1)\n",
    "    df['skill'] = df['skill'].fillna(-1)\n",
    "    df['num_prev_company'] = df['num_prev_company'].fillna(-1)\n",
    "    df['work_interval'] = df['work_interval'].fillna(-1)\n",
    "\n",
    "\n",
    "\n",
    "\n",
    "\n",
    "my_cursor.execute('select distinct steps_title from useful_data')\n",
    "for item in my_cursor:\n",
    "    steps_title_list.append(item)\n",
    "\n",
    "\n",
    "for title in steps_title_list:\n",
    "    if title[0] == 'نیازمند تعیین وضعیت':\n",
    "        d_steps_title[title[0]] = 0\n",
    "    elif title[0] == 'تایید برای مصاحبه':\n",
    "        d_steps_title[title[0]] = 1\n",
    "    elif title[0] == 'استخدام شده':\n",
    "        d_steps_title[title[0]] = 2\n",
    "    elif title[0] == 'رد شده':\n",
    "        d_steps_title[title[0]] = 3\n",
    "    elif title[0] == 'انصراف از مصاحبه':\n",
    "        d_steps_title[title[0]] = 4\n",
    "    else:\n",
    "        d_steps_title[title[0]] = 6\n",
    "\n",
    "np.random.seed(0)\n",
    "df_train = pd.read_csv(\"train.csv\")\n",
    "df_test = pd.read_csv(\"test.csv\")\n",
    "df_train['steps_title'] = df_train['steps_title'].map(d_steps_title)\n",
    "df_test['steps_title'] = df_test['steps_title'].map(d_steps_title)\n",
    "convert_nans(df_train)\n",
    "convert_nans(df_test)\n",
    "print('number of training data: ' , len(df_train))\n",
    "print('number of test data: ' , len(df_test))\n",
    "features_train = df_train.columns[[2 , 4 , 5 , 7 , 10]]\n",
    "features_test = df_test.columns[[2 , 4 , 5 , 7 , 10]]\n",
    "print(features_test)\n",
    "clf = RandomForestClassifier(n_jobs=2 , random_state=0)\n",
    "clf.fit(df_train[features_train] , df_train['steps_title'])\n",
    "y = clf.predict(df_test[features_test])\n",
    "x = df_test['steps_title']\n",
    "print(\"accuracy : \", accuracy_score(x, y))\n",
    "print(pd.crosstab(x, y))\n",
    "sorted_idx = clf.feature_importances_\n",
    "plt.barh(features_test, clf.feature_importances_)\n",
    "plt.xlabel(\"Random Forest Feature Importance\")"
   ]
  }
 ],
 "metadata": {
  "kernelspec": {
   "display_name": "Python 3",
   "language": "python",
   "name": "python3"
  },
  "language_info": {
   "codemirror_mode": {
    "name": "ipython",
    "version": 2
   },
   "file_extension": ".py",
   "mimetype": "text/x-python",
   "name": "python",
   "nbconvert_exporter": "python",
   "pygments_lexer": "ipython2",
   "version": "2.7.6"
  }
 },
 "nbformat": 4,
 "nbformat_minor": 0
}