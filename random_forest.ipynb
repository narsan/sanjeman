{
 "cells": [
  {
   "cell_type": "code",
   "execution_count": 108,
   "metadata": {
    "collapsed": true
   },
   "outputs": [
    {
     "name": "stdout",
     "output_type": "stream",
     "text": [
      "number of training data:  14308\n",
      "number of test data:  188\n"
     ]
    },
    {
     "data": {
      "text/plain": "col_0         2   3\nsteps_title        \n2            37  57\n3             0  94",
      "text/html": "<div>\n<style scoped>\n    .dataframe tbody tr th:only-of-type {\n        vertical-align: middle;\n    }\n\n    .dataframe tbody tr th {\n        vertical-align: top;\n    }\n\n    .dataframe thead th {\n        text-align: right;\n    }\n</style>\n<table border=\"1\" class=\"dataframe\">\n  <thead>\n    <tr style=\"text-align: right;\">\n      <th>col_0</th>\n      <th>2</th>\n      <th>3</th>\n    </tr>\n    <tr>\n      <th>steps_title</th>\n      <th></th>\n      <th></th>\n    </tr>\n  </thead>\n  <tbody>\n    <tr>\n      <th>2</th>\n      <td>37</td>\n      <td>57</td>\n    </tr>\n    <tr>\n      <th>3</th>\n      <td>0</td>\n      <td>94</td>\n    </tr>\n  </tbody>\n</table>\n</div>"
     },
     "execution_count": 108,
     "metadata": {},
     "output_type": "execute_result"
    }
   ],
   "source": [
    "from sklearn.ensemble import RandomForestClassifier\n",
    "import pandas as pd\n",
    "import numpy as np\n",
    "import mysql.connector\n",
    "\n",
    "\n",
    "with open('pss.txt') as file:\n",
    "    lines = file.readlines()\n",
    "    lines = [line.rstrip() for line in lines]\n",
    "password = lines[0]\n",
    "db = lines[1]\n",
    "\n",
    "mydb = mysql.connector.connect(\n",
    "    host=\"localhost\",\n",
    "    user=\"root\",\n",
    "    password=password,\n",
    "    database=db,\n",
    "    use_pure=True\n",
    ")\n",
    "\n",
    "my_cursor = mydb.cursor()\n",
    "steps_title_list = []\n",
    "d_steps_title = {}\n",
    "university_name_list = []\n",
    "d_uni_name = {}\n",
    "\n",
    "def convert_nans(df):\n",
    "    df['steps_title'] = df['steps_title'].fillna(6)\n",
    "    df['age'] = df['age'].fillna(-1)\n",
    "    df['skill'] = df['skill'].fillna(-1)\n",
    "    df['marriage_status'] = df['marriage_status'].fillna(-1)\n",
    "    df['language'] = df['language'].fillna(-1)\n",
    "    # df['job_contract_type'] = df['job_contract_type'].fillna(-1)\n",
    "    df['gender'] = df['gender'].fillna(-1)\n",
    "    df['education'] = df['education'].fillna(-1)\n",
    "\n",
    "\n",
    "\n",
    "\n",
    "my_cursor.execute('select distinct steps_title from useful_data')\n",
    "for item in my_cursor:\n",
    "    steps_title_list.append(item)\n",
    "\n",
    "\n",
    "for title in steps_title_list:\n",
    "    if title[0] == 'نیازمند تعیین وضعیت':\n",
    "        d_steps_title[title[0]] = 0\n",
    "    elif title[0] == 'تایید برای مصاحبه':\n",
    "        d_steps_title[title[0]] = 1\n",
    "    elif title[0] == 'استخدام شده':\n",
    "        d_steps_title[title[0]] = 2\n",
    "    elif title[0] == 'رد شده':\n",
    "        d_steps_title[title[0]] = 3\n",
    "    elif title[0] == 'انصراف از مصاحبه':\n",
    "        d_steps_title[title[0]] = 4\n",
    "    else:\n",
    "        d_steps_title[title[0]] = 6\n",
    "\n",
    "\n",
    "np.random.seed(0)\n",
    "df_train = pd.read_csv(\"train.csv\")\n",
    "df_test = pd.read_csv(\"test.csv\")\n",
    "df_train['steps_title'] = df_train['steps_title'].map(d_steps_title)\n",
    "df_test['steps_title'] = df_test['steps_title'].map(d_steps_title)\n",
    "convert_nans(df_train)\n",
    "convert_nans(df_test)\n",
    "df_train.head()\n",
    "\n",
    "\n",
    "\n",
    "\n",
    "print('number of training data: ' , len(df_train))\n",
    "print('number of test data: ' , len(df_test))\n",
    "features_train = df_train.columns[:7]\n",
    "features_test = df_test.columns[:7]\n",
    "\n",
    "clf = RandomForestClassifier(n_jobs=2 , random_state=0)\n",
    "clf.fit(df_train[features_train] , df_train['steps_title'])\n",
    "y = clf.predict(df_test[features_test])\n",
    "x = df_test['steps_title']\n",
    "pd.crosstab(x, y)\n",
    "# accuracy_score(x, y)"
   ]
  }
 ],
 "metadata": {
  "kernelspec": {
   "display_name": "Python 3",
   "language": "python",
   "name": "python3"
  },
  "language_info": {
   "codemirror_mode": {
    "name": "ipython",
    "version": 2
   },
   "file_extension": ".py",
   "mimetype": "text/x-python",
   "name": "python",
   "nbconvert_exporter": "python",
   "pygments_lexer": "ipython2",
   "version": "2.7.6"
  }
 },
 "nbformat": 4,
 "nbformat_minor": 0
}